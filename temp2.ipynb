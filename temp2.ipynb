{
 "cells": [
  {
   "cell_type": "code",
   "execution_count": null,
   "metadata": {
    "collapsed": true,
    "pycharm": {
     "name": "#%%\n"
    }
   },
   "outputs": [],
   "source": [
    "import streamlit as st\n",
    "import matplotlib.pyplot as plt\n",
    "import pandas as pd\n",
    "import numpy as np\n",
    "import seaborn as sns\n",
    "\n",
    "\n",
    "%store -r load_data\n",
    "\n",
    "#st.title('Uber pickups in NYC')\n",
    "# Create a text element and let the reader know the data is loading.\n",
    "data_load_state = st.text('Loading data...')\n",
    "file_path= './data_files/agoda_cancellation_train.csv'\n",
    "# Read the CSV file into a DataFrame\n",
    "df = load_data(file_path)\n",
    "\n",
    "# Notify the reader that the data was successfully loaded.\n",
    "data_load_stateatatext('Loading data...do'\n",
    "                       'ne!')\n",
    "st.subheader('Raw data')\n",
    "st.write(data)\n",
    "\n",
    "num_total = len(data)\n",
    "num_canceled = len(data[data['order_canceled'] == 1])\n",
    "num_non_canceled = num_total - num_canceled\n",
    "st.subheader('''\n",
    "ALL: {}\n",
    "'''.format(num_total))\n",
    "st.subheader('''\n",
    "Number of canceled: {}\n",
    "'''.format(num_canceled))\n",
    "st.subheader('''\n",
    "Number of Non : {}\n",
    "'''.format(num_non_canceled))\n",
    "# hist_values = np.histogram(\n",
    "#     data[DATE_COLUMN].dt.hour, bins=24, range=(0, 24))[0]\n",
    "# st.bar_chart(hist_values)\n",
    "# day_to_filter = st.slider('hour', 0, 31, 17)  # min: 0h, max: 23h, default: 17h\n",
    "# filtered_data = data[data[DATE_COLUMN].dt.day == day_to_filter]\n",
    "# st.subheader(f'Map of all pickups at {day_to_filter}')\n",
    "# st.map(filtered_data)\n",
    "# st.subheader('Map of all pickups')\n",
    "# st.map(data)\n",
    "#\n",
    "st.subheader('Correlation between features')\n",
    "fig3 = plt.figure()\n",
    "sns.heatmap(data[['h_booking_id', 'booking_datetime', 'checkin_date', 'checkout_date', 'hotel_id', 'hotel_country_code', 'hotel_live_date', 'hotel_star_rating', 'accommadation_type_name', 'charge_option', 'h_customer_id', 'customer_nationality', 'guest_is_not_the_customer', 'guest_nationality_country_name', 'no_of_adults', 'no_of_children', 'no_of_extra_bed', 'no_of_room', 'origin_country_code', 'language', 'original_selling_amount', 'original_payment_method', 'original_payment_type', 'original_payment_currency', 'is_user_logged_in', 'cancellation_policy_code', 'is_first_booking', 'request_nonesmoke', 'request_latecheckin', 'request_highfloor', 'request_largebed', 'request_twinbeds', 'request_airport', 'request_earlycheckin', 'cancellation_datetime', 'hotel_area_code', 'hotel_brand_code', 'hotel_chain_code', 'hotel_city_code']].corr())\n",
    "st.pyplot(fig3)\n",
    "\n",
    "# st.subheader('Price Distribution based on bedrooms')\n",
    "df = data[data['order_canceled']==1] #GOOD for clasification\n",
    "fig1 = plt.figure()\n",
    "ax = sns.countplot(data=df, x='no_of_adults', order=df['no_of_adults'].value_counts().index)\n",
    "plt.xticks(rotation=45)\n",
    "st.pyplot(fig1)\n",
    "\n",
    "df = data[data['order_canceled']==0] #GOOD for clasification\n",
    "fig2 = plt.figure()\n",
    "ax = sns.countplot(data=df, x='no_of_adults', order=df['no_of_adults'].value_counts().index)\n",
    "plt.xticks(rotation=45)\n",
    "st.pyplot(fig2)"
   ]
  }
 ],
 "metadata": {
  "kernelspec": {
   "display_name": "Python 3",
   "language": "python",
   "name": "python3"
  },
  "language_info": {
   "codemirror_mode": {
    "name": "ipython",
    "version": 2
   },
   "file_extension": ".py",
   "mimetype": "text/x-python",
   "name": "python",
   "nbconvert_exporter": "python",
   "pygments_lexer": "ipython2",
   "version": "2.7.6"
  }
 },
 "nbformat": 4,
 "nbformat_minor": 0
}